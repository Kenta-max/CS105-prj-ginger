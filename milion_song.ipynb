{
 "cells": [
  {
   "cell_type": "markdown",
   "metadata": {},
   "source": [
    "## Strategy\n",
    "\n",
    "1. collect the 10,000 songs data\n",
    "2. in billboard top 100 or popularity, label it by bool value \n",
    "3. use some machine learning to predict weather the songs are in top100 or not."
   ]
  },
  {
   "cell_type": "markdown",
   "metadata": {},
   "source": [
    "## One milion songs of 1990-2010"
   ]
  },
  {
   "cell_type": "code",
   "execution_count": 1,
   "metadata": {},
   "outputs": [],
   "source": [
    "import pandas as pd\n",
    "import random\n",
    "pd.set_option(\"display.max_rows\", None)"
   ]
  },
  {
   "cell_type": "code",
   "execution_count": 2,
   "metadata": {
    "scrolled": true
   },
   "outputs": [
    {
     "name": "stderr",
     "output_type": "stream",
     "text": [
      "/Users/kentakawajiri/opt/anaconda3/lib/python3.7/site-packages/ipykernel_launcher.py:1: ParserWarning: Falling back to the 'python' engine because the 'c' engine does not support regex separators (separators > 1 char and different from '\\s+' are interpreted as regex); you can avoid this warning by specifying engine='python'.\n",
      "  \"\"\"Entry point for launching an IPython kernel.\n"
     ]
    }
   ],
   "source": [
    "df = pd.read_csv(\"tracks_per_year.txt\", sep = \"<SEP>\", header=None)\n",
    "df.columns=[\"year\", \"track_id\", \"artist\", \"song\"]"
   ]
  },
  {
   "cell_type": "code",
   "execution_count": 8,
   "metadata": {},
   "outputs": [
    {
     "data": {
      "text/plain": [
       "1922        6\n",
       "1924        5\n",
       "1925        7\n",
       "1926       19\n",
       "1927       43\n",
       "1928       52\n",
       "1929       93\n",
       "1930       40\n",
       "1931       35\n",
       "1932       11\n",
       "1933        6\n",
       "1934       29\n",
       "1935       24\n",
       "1936       25\n",
       "1937       28\n",
       "1938       19\n",
       "1939       35\n",
       "1940       52\n",
       "1941       32\n",
       "1942       24\n",
       "1943       14\n",
       "1944       15\n",
       "1945       30\n",
       "1946       29\n",
       "1947       57\n",
       "1948       43\n",
       "1949       60\n",
       "1950       84\n",
       "1951       74\n",
       "1952       77\n",
       "1953      133\n",
       "1954      123\n",
       "1955      275\n",
       "1956      565\n",
       "1957      598\n",
       "1958      583\n",
       "1959      592\n",
       "1960      424\n",
       "1961      572\n",
       "1962      605\n",
       "1963      902\n",
       "1964      945\n",
       "1965     1120\n",
       "1966     1377\n",
       "1967     1718\n",
       "1968     1867\n",
       "1969     2211\n",
       "1970     2350\n",
       "1971     2131\n",
       "1972     2288\n",
       "1973     2596\n",
       "1974     2186\n",
       "1975     2482\n",
       "1976     2179\n",
       "1977     2502\n",
       "1978     2926\n",
       "1979     3108\n",
       "1980     3101\n",
       "1981     3167\n",
       "1982     3597\n",
       "1983     3386\n",
       "1984     3368\n",
       "1985     3578\n",
       "1986     4220\n",
       "1987     5125\n",
       "1988     5613\n",
       "1989     6672\n",
       "1990     7258\n",
       "1991     8650\n",
       "1992     9547\n",
       "1993    10529\n",
       "1994    12127\n",
       "1995    13260\n",
       "1996    14135\n",
       "1997    15182\n",
       "1998    15858\n",
       "1999    18262\n",
       "2000    19293\n",
       "2001    21604\n",
       "2002    23472\n",
       "2003    27389\n",
       "2004    29618\n",
       "2005    34960\n",
       "2006    37546\n",
       "2007    39414\n",
       "2008    34770\n",
       "2009    31051\n",
       "2010     9397\n",
       "2011        1\n",
       "Name: year, dtype: int64"
      ]
     },
     "execution_count": 8,
     "metadata": {},
     "output_type": "execute_result"
    }
   ],
   "source": [
    "df.year.value_counts().sort_index()"
   ]
  },
  {
   "cell_type": "code",
   "execution_count": 170,
   "metadata": {},
   "outputs": [],
   "source": [
    "df_9010 = df[(df.year >= 1990) & (df.year <= 2010)] #get the data of 1990-2010."
   ]
  },
  {
   "cell_type": "code",
   "execution_count": 171,
   "metadata": {},
   "outputs": [],
   "source": [
    "ran_list = random.sample(list(df_9010.index), 10000) #get the random list"
   ]
  },
  {
   "cell_type": "code",
   "execution_count": 181,
   "metadata": {},
   "outputs": [],
   "source": [
    "#make the dataframe\n",
    "df_song = pd.DataFrame(columns=[\"year\", \"track_id\", \"artist\", \"song\"])\n",
    "for i in ran_list:\n",
    "    df_song = df_song.append(df_9010.loc[[i]], ignore_index=True)"
   ]
  },
  {
   "cell_type": "code",
   "execution_count": 186,
   "metadata": {
    "scrolled": true
   },
   "outputs": [
    {
     "data": {
      "text/html": [
       "<div>\n",
       "<style scoped>\n",
       "    .dataframe tbody tr th:only-of-type {\n",
       "        vertical-align: middle;\n",
       "    }\n",
       "\n",
       "    .dataframe tbody tr th {\n",
       "        vertical-align: top;\n",
       "    }\n",
       "\n",
       "    .dataframe thead th {\n",
       "        text-align: right;\n",
       "    }\n",
       "</style>\n",
       "<table border=\"1\" class=\"dataframe\">\n",
       "  <thead>\n",
       "    <tr style=\"text-align: right;\">\n",
       "      <th></th>\n",
       "      <th>year</th>\n",
       "      <th>artist</th>\n",
       "      <th>song</th>\n",
       "    </tr>\n",
       "  </thead>\n",
       "  <tbody>\n",
       "    <tr>\n",
       "      <td>0</td>\n",
       "      <td>1996</td>\n",
       "      <td>Busta Rhymes featuring Q-Tip</td>\n",
       "      <td>Ill Vibe (Explicit LP Version)</td>\n",
       "    </tr>\n",
       "    <tr>\n",
       "      <td>1</td>\n",
       "      <td>2000</td>\n",
       "      <td>North Mississippi Allstars</td>\n",
       "      <td>Shake 'Em On Down</td>\n",
       "    </tr>\n",
       "    <tr>\n",
       "      <td>2</td>\n",
       "      <td>2005</td>\n",
       "      <td>Zen Café</td>\n",
       "      <td>Hontelot pojat</td>\n",
       "    </tr>\n",
       "    <tr>\n",
       "      <td>3</td>\n",
       "      <td>2008</td>\n",
       "      <td>Estopa</td>\n",
       "      <td>El Run Run (Bonus Track) (Maqueta)</td>\n",
       "    </tr>\n",
       "    <tr>\n",
       "      <td>4</td>\n",
       "      <td>2003</td>\n",
       "      <td>Blood Red Throne</td>\n",
       "      <td>Affiliated With the Suffering</td>\n",
       "    </tr>\n",
       "  </tbody>\n",
       "</table>\n",
       "</div>"
      ],
      "text/plain": [
       "   year                        artist                                song\n",
       "0  1996  Busta Rhymes featuring Q-Tip      Ill Vibe (Explicit LP Version)\n",
       "1  2000    North Mississippi Allstars                   Shake 'Em On Down\n",
       "2  2005                      Zen Café                      Hontelot pojat\n",
       "3  2008                        Estopa  El Run Run (Bonus Track) (Maqueta)\n",
       "4  2003              Blood Red Throne       Affiliated With the Suffering"
      ]
     },
     "execution_count": 186,
     "metadata": {},
     "output_type": "execute_result"
    }
   ],
   "source": [
    "df_song.head()"
   ]
  },
  {
   "cell_type": "code",
   "execution_count": 185,
   "metadata": {
    "scrolled": true
   },
   "outputs": [],
   "source": [
    "df_song = df_song.drop(\"track_id\", axis=1)"
   ]
  },
  {
   "cell_type": "code",
   "execution_count": 187,
   "metadata": {},
   "outputs": [],
   "source": [
    "df_song.to_csv(\"msongs.csv\")"
   ]
  }
 ],
 "metadata": {
  "kernelspec": {
   "display_name": "Python 3",
   "language": "python",
   "name": "python3"
  },
  "language_info": {
   "codemirror_mode": {
    "name": "ipython",
    "version": 3
   },
   "file_extension": ".py",
   "mimetype": "text/x-python",
   "name": "python",
   "nbconvert_exporter": "python",
   "pygments_lexer": "ipython3",
   "version": "3.7.4"
  }
 },
 "nbformat": 4,
 "nbformat_minor": 2
}
