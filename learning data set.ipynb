{
 "cells": [
  {
   "cell_type": "code",
   "execution_count": 27,
   "metadata": {},
   "outputs": [],
   "source": [
    "import pandas as pd\n",
    "import random\n",
    "pd.set_option(\"display.max_rows\", None)"
   ]
  },
  {
   "cell_type": "code",
   "execution_count": 28,
   "metadata": {},
   "outputs": [],
   "source": [
    "df_msong = pd.read_csv(\"msongs.csv\") #read msong.csv(1990-2010)\n",
    "df_rank = pd.read_csv(\"ranking.csv\") #read ranking.csv(1956-2019)\n",
    "df_msong = df_msong.drop(\"Unnamed: 0\", axis=1) #drop the column of \"Unnamed: 0\"\n",
    "df_rank = df_rank.drop(\"Unnamed: 0\", axis=1) #drop the column of \"Unnamed: 0\""
   ]
  },
  {
   "cell_type": "code",
   "execution_count": 29,
   "metadata": {},
   "outputs": [
    {
     "data": {
      "text/plain": [
       "2006    885\n",
       "2007    864\n",
       "2005    842\n",
       "2008    765\n",
       "2009    721\n",
       "2004    646\n",
       "2003    610\n",
       "2002    504\n",
       "2001    501\n",
       "1999    475\n",
       "2000    468\n",
       "1998    407\n",
       "1997    343\n",
       "1995    338\n",
       "1996    319\n",
       "1994    260\n",
       "1993    254\n",
       "1992    226\n",
       "2010    221\n",
       "1991    187\n",
       "1990    164\n",
       "Name: year, dtype: int64"
      ]
     },
     "execution_count": 29,
     "metadata": {},
     "output_type": "execute_result"
    }
   ],
   "source": [
    "df_msong.year.value_counts()"
   ]
  },
  {
   "cell_type": "code",
   "execution_count": 30,
   "metadata": {},
   "outputs": [],
   "source": [
    "df_rank = df_rank[(df_rank[\"year\"] >= 1990) & (df_rank[\"year\"] <= 2010)]"
   ]
  },
  {
   "cell_type": "code",
   "execution_count": 31,
   "metadata": {},
   "outputs": [],
   "source": [
    "dfm = pd.read_csv(\"audio_features_msongs.csv\") #7655\n",
    "dfa = pd.read_csv(\"audio_features.csv\") #5658(all the year)\n",
    "dfa = dfa[(dfa[\"year\"] >= 1990) & (dfa[\"year\"] <= 2010)] #1842(1990-2010)\n",
    "\n",
    "#drop the unnecessary column\n",
    "dfm=dfm.drop(\"Unnamed: 0\", axis=1)\n",
    "dfa=dfa.drop(\"Unnamed: 0\", axis=1)\n",
    "\n",
    "#drop duplicated rows\n",
    "dfm = dfm.drop_duplicates(subset=['id'], keep='first')#7631\n",
    "dfa = dfa.drop_duplicates(subset=['id'], keep='first') #1707"
   ]
  },
  {
   "cell_type": "code",
   "execution_count": 32,
   "metadata": {
    "scrolled": true
   },
   "outputs": [
    {
     "name": "stdout",
     "output_type": "stream",
     "text": [
      "7631\n",
      "1707\n"
     ]
    }
   ],
   "source": [
    "print(len(dfm))\n",
    "print(len(dfa))"
   ]
  },
  {
   "cell_type": "markdown",
   "metadata": {},
   "source": [
    "\"dfm\" is the audio_features data from 1990-2010. \"dfa\" is the audio_features data from 1990-2010 on bilboard top100."
   ]
  },
  {
   "cell_type": "code",
   "execution_count": 33,
   "metadata": {},
   "outputs": [],
   "source": [
    "#remove same elements as dfa from dfm\n",
    "c=0\n",
    "\n",
    "for i in dfm.id:\n",
    "    for i2 in dfa.id:\n",
    "        if(i == i2):\n",
    "            \n",
    "            a = dfm[dfm.id == i]\n",
    "            dfm=dfm.drop(index = a.index)            "
   ]
  },
  {
   "cell_type": "code",
   "execution_count": 34,
   "metadata": {
    "scrolled": true
   },
   "outputs": [
    {
     "name": "stdout",
     "output_type": "stream",
     "text": [
      "7583\n",
      "1707\n"
     ]
    }
   ],
   "source": [
    "print(len(dfm))\n",
    "print(len(dfa))"
   ]
  },
  {
   "cell_type": "markdown",
   "metadata": {},
   "source": [
    "The above means there are 48 top100 bilboard(bbd) songs in the data, then we removed them."
   ]
  },
  {
   "cell_type": "code",
   "execution_count": 35,
   "metadata": {},
   "outputs": [],
   "source": [
    "dfm[\"bbd\"] = 0\n",
    "dfa[\"bbd\"] = 1"
   ]
  },
  {
   "cell_type": "code",
   "execution_count": 36,
   "metadata": {},
   "outputs": [],
   "source": [
    "#ran_list = random.sample(list(dfa.index), 100) #get the random list\n",
    "\n",
    "#make the df. len is 7706, with the 100 top 100 songs, while 7606 songs are outside top100. \n",
    "#for i in ran_list:\n",
    "#    dfm = dfm.append(dfa.loc[[i]], ignore_index=True)"
   ]
  },
  {
   "cell_type": "code",
   "execution_count": 41,
   "metadata": {},
   "outputs": [],
   "source": [
    "dfm = dfm.append(dfa, ignore_index=True)"
   ]
  },
  {
   "cell_type": "code",
   "execution_count": 43,
   "metadata": {},
   "outputs": [
    {
     "name": "stdout",
     "output_type": "stream",
     "text": [
      "9290\n"
     ]
    }
   ],
   "source": [
    "print(len(dfm))"
   ]
  },
  {
   "cell_type": "markdown",
   "metadata": {},
   "source": [
    "The above means we add the 1707 top100 songs which is 7580+1701=9290. Now, dfm has 1701 top100 songs and 7583 other songs."
   ]
  },
  {
   "cell_type": "code",
   "execution_count": 44,
   "metadata": {},
   "outputs": [],
   "source": [
    "dfm.to_csv(\"t.csv\")"
   ]
  },
  {
   "cell_type": "markdown",
   "metadata": {},
   "source": [
    "Use this for training and test the machine learning"
   ]
  }
 ],
 "metadata": {
  "kernelspec": {
   "display_name": "Python 3",
   "language": "python",
   "name": "python3"
  },
  "language_info": {
   "codemirror_mode": {
    "name": "ipython",
    "version": 3
   },
   "file_extension": ".py",
   "mimetype": "text/x-python",
   "name": "python",
   "nbconvert_exporter": "python",
   "pygments_lexer": "ipython3",
   "version": "3.7.4"
  }
 },
 "nbformat": 4,
 "nbformat_minor": 2
}
